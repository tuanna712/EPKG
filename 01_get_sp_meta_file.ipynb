{
 "cells": [
  {
   "cell_type": "code",
   "execution_count": 9,
   "metadata": {},
   "outputs": [
    {
     "name": "stdout",
     "output_type": "stream",
     "text": [
      "=====Process 1/2740 =====\n",
      "Already processed\n",
      "=====Process 2/2740 =====\n",
      "Finished:  2011_Nghien cuu lo 112-119_Final report for Origin.doc\n"
     ]
    }
   ],
   "source": [
    "import json\n",
    "from core.connectors import Connector\n",
    "\n",
    "# Load file json from  data/raw/site_file_urls.json\n",
    "with open('./data/raw/songhong_file_urls.json') as file:\n",
    "    data = json.load(file)\n",
    "\n",
    "# Load processed IDs\n",
    "with open('./data/raw/processed_urls.json') as file:\n",
    "    loaded_processed_urls = json.load(file)\n",
    "\n",
    "# Load all data\n",
    "with open('./data/raw/all_data.json') as file:\n",
    "    all_data = json.load(file)\n",
    "\n",
    "# Connect to SharePoint\n",
    "SP_Connector = Connector.to_sharepoint()\n",
    "\n",
    "processed_urls = list(loaded_processed_urls.values())\n",
    "\n",
    "for n, data_item in enumerate(list(data.values())[:2]):\n",
    "    print(f\"=====Process {n+1}/{len(data)} =====\")\n",
    "    if data_item in processed_urls:\n",
    "        print(\"Already processed\")\n",
    "    else:\n",
    "        try:\n",
    "            file_meta = SP_Connector.get_metadata(data_item)\n",
    "            file_id = file_meta['GUID']\n",
    "            # Add to all_data\n",
    "            all_data[file_id] = file_meta\n",
    "\n",
    "        except Exception as e:\n",
    "            print(f\"Error: {e}\")\n",
    "            continue\n",
    "        \n",
    "        # Save dict to json file\n",
    "        with open('./data/raw/all_data.json', 'w') as f:\n",
    "            json.dump(all_data, f, indent=4) \n",
    "\n",
    "        # Save processed ids\n",
    "        processed_urls.append(data_item)\n",
    "        processed_urls_dict = { i : url for i, url in enumerate(processed_urls)}\n",
    "\n",
    "        # Save dict to json file\n",
    "        with open('./data/raw/processed_urls.json', 'w') as f:\n",
    "            json.dump(processed_urls_dict, f, indent=4)\n",
    "\n",
    "        print(\"Finished: \", data_item.split('/')[-1])"
   ]
  },
  {
   "cell_type": "code",
   "execution_count": null,
   "metadata": {},
   "outputs": [],
   "source": []
  },
  {
   "cell_type": "code",
   "execution_count": null,
   "metadata": {},
   "outputs": [],
   "source": []
  }
 ],
 "metadata": {
  "kernelspec": {
   "display_name": "booksage",
   "language": "python",
   "name": "python3"
  },
  "language_info": {
   "codemirror_mode": {
    "name": "ipython",
    "version": 3
   },
   "file_extension": ".py",
   "mimetype": "text/x-python",
   "name": "python",
   "nbconvert_exporter": "python",
   "pygments_lexer": "ipython3",
   "version": "3.11.5"
  }
 },
 "nbformat": 4,
 "nbformat_minor": 2
}
