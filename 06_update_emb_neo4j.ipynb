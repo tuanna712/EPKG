{
 "cells": [
  {
   "cell_type": "code",
   "execution_count": null,
   "metadata": {},
   "outputs": [],
   "source": [
    "import pandas as pd\n",
    "from neo4j import GraphDatabase\n",
    "\n",
    "URI = \"neo4j://localhost\"\n",
    "AUTH = (\"neo4j\", \"167trungkinh\")\n",
    "\n",
    "# URI=\"neo4j+s://18429959.databases.neo4j.io\"\n",
    "# AUTH = (\"neo4j\",\"6hXdC44Aa0Tm9UD3s5xGve3itUUNH9afYOcFOp2Z3ic\")"
   ]
  },
  {
   "cell_type": "code",
   "execution_count": null,
   "metadata": {},
   "outputs": [],
   "source": [
    "saving_file_path = 'data/embeddings/emb_file_entities.csv'\n",
    "saving_author_file_path = 'data/embeddings/emb_author_entities.csv'\n",
    "saving_contractor_file_path = 'data/embeddings/emb_contractor_entities.csv'\n",
    "files_data = pd.read_csv(saving_file_path)\n",
    "author_data = pd.read_csv(saving_author_file_path)\n",
    "contractor_data = pd.read_csv(saving_contractor_file_path)\n",
    "# Remove duplicate Author values\n",
    "author_data = author_data.drop_duplicates(subset=['ReportAuthor'], keep='first')\n",
    "author_data = author_data.reset_index(drop=True)\n",
    "contractor_data = contractor_data.drop_duplicates(subset=['Contractors'], keep='first')\n",
    "contractor_data = contractor_data.reset_index(drop=True)"
   ]
  },
  {
   "cell_type": "code",
   "execution_count": null,
   "metadata": {},
   "outputs": [],
   "source": [
    "with GraphDatabase.driver(URI, auth=AUTH) as driver:\n",
    "    for i in range(len(files_data)):\n",
    "\n",
    "        query = \"\"\"\n",
    "        MATCH (n:File {{name: '{}'}}) \n",
    "        SET n.embeddings = {}\n",
    "        \"\"\".format(\n",
    "                    files_data['Name'][i],\n",
    "                    files_data['NameEmbeddings'][i],\n",
    "                    )\n",
    "        # print(query)\n",
    "        print(f\"{i+1}/{len(files_data)}\")\n",
    "        driver = GraphDatabase.driver(URI, auth=AUTH)\n",
    "        driver.execute_query(query_=query, database_=\"neo4j\")"
   ]
  },
  {
   "cell_type": "code",
   "execution_count": null,
   "metadata": {},
   "outputs": [],
   "source": [
    "with GraphDatabase.driver(URI, auth=AUTH) as driver:\n",
    "    for i in range(len(author_data)):\n",
    "\n",
    "        query = \"\"\"\n",
    "        MATCH (n:Author {{name: '{}'}}) \n",
    "        SET n.embeddings = {}\n",
    "        \"\"\".format(\n",
    "                    files_data['ReportAuthor'][i],\n",
    "                    files_data['AuthorEmbedding'][i],\n",
    "                    )\n",
    "        # print(query)\n",
    "        print(f\"{i+1}/{len(files_data)}\")\n",
    "        driver = GraphDatabase.driver(URI, auth=AUTH)\n",
    "        driver.execute_query(query_=query, database_=\"neo4j\")"
   ]
  },
  {
   "cell_type": "code",
   "execution_count": null,
   "metadata": {},
   "outputs": [],
   "source": [
    "with GraphDatabase.driver(URI, auth=AUTH) as driver:\n",
    "    for i in range(len(author_data)):\n",
    "\n",
    "        query = \"\"\"\n",
    "        MATCH (n:Contractor {{name: '{}'}}) \n",
    "        SET n.embeddings = {}\n",
    "        \"\"\".format(\n",
    "                    files_data['Contractors'][i],\n",
    "                    files_data['ContractorsEmbeddings'][i],\n",
    "                    )\n",
    "        # print(query)\n",
    "        print(f\"{i+1}/{len(files_data)}\")\n",
    "        driver = GraphDatabase.driver(URI, auth=AUTH)\n",
    "        driver.execute_query(query_=query, database_=\"neo4j\")"
   ]
  }
 ],
 "metadata": {
  "kernelspec": {
   "display_name": "booksage",
   "language": "python",
   "name": "python3"
  },
  "language_info": {
   "codemirror_mode": {
    "name": "ipython",
    "version": 3
   },
   "file_extension": ".py",
   "mimetype": "text/x-python",
   "name": "python",
   "nbconvert_exporter": "python",
   "pygments_lexer": "ipython3",
   "version": "3.11.5"
  }
 },
 "nbformat": 4,
 "nbformat_minor": 2
}
